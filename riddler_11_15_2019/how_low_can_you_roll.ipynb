{
 "cells": [
  {
   "cell_type": "code",
   "execution_count": 1,
   "metadata": {},
   "outputs": [],
   "source": [
    "import numpy as np\n",
    "import toolz\n",
    "import toolz.curried\n",
    "import itertools\n",
    "import functools"
   ]
  },
  {
   "cell_type": "code",
   "execution_count": 2,
   "metadata": {},
   "outputs": [],
   "source": [
    "num_faces = 10\n",
    "\n",
    "\n",
    "def generate(num_faces):\n",
    "    # generate a infinite sequence\n",
    "    return map(lambda x: np.random.randint(0, num_faces), itertools.count())\n",
    "\n",
    "def get_filtered_sequence(seq):\n",
    "    # only keep till first zero\n",
    "    return itertools.takewhile(lambda x: x > 0, seq)\n",
    "\n",
    "def get_final_sequence(seq):\n",
    "    # reduce slice so that it is non-increasing\n",
    "    try:\n",
    "        first, remain = next(seq), seq\n",
    "        return functools.reduce(lambda x,y: x + [y] if y <= x[-1] else x, remain, [first])\n",
    "    except StopIteration:\n",
    "        return []\n",
    "    \n",
    "def get_output(seq):\n",
    "    return sum(map(lambda tup: tup[1] / 10**(tup[0]+1), enumerate(seq)))\n",
    "\n",
    "def simulate_once(num_faces):\n",
    "    return toolz.pipe(num_faces,\n",
    "                     generate,\n",
    "                     get_filtered_sequence,\n",
    "                     get_final_sequence,\n",
    "                     get_output)\n",
    "\n",
    "def get_expected(num_faces, num_sims):\n",
    "    return np.mean([simulate_once(num_faces) for _ in range(num_sims)])"
   ]
  },
  {
   "cell_type": "code",
   "execution_count": 3,
   "metadata": {},
   "outputs": [
    {
     "data": {
      "text/plain": [
       "0.47310089593870847"
      ]
     },
     "execution_count": 3,
     "metadata": {},
     "output_type": "execute_result"
    }
   ],
   "source": [
    "np.mean([get_expected(num_faces, 10000) for _ in range(10)])"
   ]
  }
 ],
 "metadata": {
  "kernelspec": {
   "display_name": "Python 3",
   "language": "python",
   "name": "python3"
  },
  "language_info": {
   "codemirror_mode": {
    "name": "ipython",
    "version": 3
   },
   "file_extension": ".py",
   "mimetype": "text/x-python",
   "name": "python",
   "nbconvert_exporter": "python",
   "pygments_lexer": "ipython3",
   "version": "3.7.3"
  }
 },
 "nbformat": 4,
 "nbformat_minor": 2
}
