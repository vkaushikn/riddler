{
 "cells": [
  {
   "cell_type": "code",
   "execution_count": 1,
   "metadata": {},
   "outputs": [],
   "source": [
    "import itertools as it\n",
    "import pandas as pd\n",
    "import matplotlib.pyplot as plt\n",
    "import numpy as np\n",
    "import seaborn as sns\n",
    "import toolz\n",
    "import toolz.curried\n",
    "from typing import Iterator, Tuple, List"
   ]
  },
  {
   "cell_type": "markdown",
   "metadata": {},
   "source": [
    "# Riddler Classic\n",
    "From Chris Nho comes a question of rolling (and re-rolling) a die:\n",
    "\n",
    "You start with a fair 6-sided die and roll it six times, recording the results of each roll. You then write these numbers on the six faces of another, unlabeled fair die. For example, if your six rolls were 3, 5, 3, 6, 1 and 2, then your second die wouldn’t have a 4 on it; instead, it would have two 3s.\n",
    "\n",
    "Next, you roll this second die six times. You take those six numbers and write them on the faces of yet another fair die, and you continue this process of generating a new die from the previous one.\n",
    "\n",
    "Eventually, you’ll have a die with the same number on all six faces. What is the average number of rolls it will take to reach this state?\n",
    "\n",
    "Extra credit: Instead of a standard 6-sided die, suppose you have an N-sided die, whose sides are numbered from 1 to N. What is the average number of rolls it would take until all N sides show the same number?"
   ]
  },
  {
   "cell_type": "markdown",
   "metadata": {},
   "source": [
    "## Brute Force it via simulation"
   ]
  },
  {
   "cell_type": "code",
   "execution_count": 2,
   "metadata": {},
   "outputs": [],
   "source": [
    "def roll(choices: List[int], n: int=6) -> List[int]:\n",
    "    \"\"\"Rolls a dice with numbers from choices n times and returns the results.\"\"\"\n",
    "    return [np.random.choice(choices) for _ in range(n)]\n",
    "\n",
    "def unique(roll_outcome:List[int]) -> List[int]:\n",
    "    \"\"\"Gets the unqiue numbers from a roll of die.\"\"\"\n",
    "    return list(set(roll_outcome))\n",
    "\n",
    "def simulate_once(choices: List[int], n:int) -> int:\n",
    "    \"\"\"Simulate 1 iteration of the game.\n",
    "    Args:\n",
    "      choices: The initial # of choices\n",
    "      n: The number of rolls per iteration\n",
    "    Returns:\n",
    "      The number of iterations to complete the game.\n",
    "    \"\"\"\n",
    "    iter = 0\n",
    "    while True:\n",
    "        iter += 1\n",
    "        roll_outcome = roll(choices, n)\n",
    "        choices = unique(roll_outcome)\n",
    "        if len(choices) == 1:\n",
    "            return iter\n",
    "        \n",
    "def simulate_many(choices: List[int], n:int, reps_per_sim:int, reps:int) -> Tuple[float, float]:\n",
    "    \"\"\"Solves the puzzle.\n",
    "    \n",
    "    Args:\n",
    "     choices: The initial # of choices\n",
    "     n: The number of rolls per iteration\n",
    "     reps_per_sim: The number of repetitions to use to calculate expectation.\n",
    "     reps: The number of times we wish to repeat the experiment.\n",
    "     \n",
    "    Returns:\n",
    "      tuple of mean expected turns and std. error of the expected turns\n",
    "    \"\"\"\n",
    "    exps = []\n",
    "    for _ in range(reps):\n",
    "        exps.append(np.mean([simulate_once(choices, n) for _ in range(reps_per_sim)]))\n",
    "    return (np.mean(exps), np.std(exps) / np.sqrt(reps))"
   ]
  },
  {
   "cell_type": "code",
   "execution_count": 3,
   "metadata": {},
   "outputs": [
    {
     "data": {
      "text/plain": [
       "(37.39692, 0.19038731768686695)"
      ]
     },
     "execution_count": 3,
     "metadata": {},
     "output_type": "execute_result"
    }
   ],
   "source": [
    "simulate_many(list(range(6)), 6, 250, 100)"
   ]
  },
  {
   "cell_type": "markdown",
   "metadata": {},
   "source": [
    "## Calculate it via expectations"
   ]
  },
  {
   "cell_type": "markdown",
   "metadata": {},
   "source": [
    "Let us consider the case when we have 3 unique number on our die.\n",
    "\n",
    "If we denote $E[3]$ to be the expected number of turns before we win, then we can confirm the following intuition. We need 1 roll now after which \n",
    "1. We either win with some probability or,\n",
    "2. Playing a reduced game with only 2 unique numbers or,\n",
    "3. Playing the game again with 3 unique numbers.\n",
    "\n",
    "Hence,\n",
    "\n",
    "\\begin{equation*}\n",
    "E[3] = 1 + p(\\text{1 unique number})\\times E[1] + p(\\text{2 unique numbers}) \\times E[2] + p(\\text{3 unique numbers}) \\times E[3]\n",
    "\\end{equation*}\n",
    "\n",
    "Starting from $E[1] = 0$ (if there is only one number on all the faces, we stop), we can set up equations all the way up to $E[6]$ which will be our required answer."
   ]
  },
  {
   "cell_type": "code",
   "execution_count": 4,
   "metadata": {},
   "outputs": [],
   "source": [
    "def extend_sequence(choices:Iterator, sequence:Tuple) -> List[Tuple]:\n",
    "    \"\"\"Return all possible sequence of length L+1.\n",
    "    \n",
    "    Args:\n",
    "      choices: The choices from which we can choose.\n",
    "      sequence: The sequence to which we wish to append.\n",
    "    \n",
    "    Returns:\n",
    "      All possible Length +1  sequences as a list\n",
    "    \"\"\"\n",
    "    return [tuple(list(sequence) + [choice]) for choice in choices]\n",
    "\n",
    "def all_sequences(choices:Iterator, num_slots:int) ->Iterator[Tuple]:\n",
    "    \"\"\"Gets all the sequences for the choices in the number of slots.\n",
    "    \n",
    "    Args:\n",
    "     choices: The choices from which we can choose.\n",
    "     num_slots: Total number of slots to fill.\n",
    "     \n",
    "    Returns:\n",
    "      All possible choices.\n",
    "    \"\"\"\n",
    "    enums = extend_sequence(choices, ())\n",
    "    for i in range(1, num_slots):\n",
    "        enums = it.chain(*[extend_sequence(choices, sequence) for sequence in enums])\n",
    "    yield from enums\n",
    "    \n",
    "def count_ways(n_choices:int, n_rolls:int, n_unique:int) -> int:\n",
    "    \"\"\"\"Counts the number of sequences with n_unique numbers.\n",
    "    \n",
    "    Args:\n",
    "      n_choices: Number of choices\n",
    "      n_rolls: Number of rolls (slots to fill)\n",
    "      n_unique: Number of unique choices that we wish to observe.\n",
    "    \n",
    "    Returns:\n",
    "     The number of ways we can observe those many unqiue choices.\n",
    "    \"\"\"\n",
    "    return toolz.pipe(all_sequences(range(n_choices), n_rolls),\n",
    "                      toolz.curried.filter(lambda x: len(set(x)) == n_unique),\n",
    "                      set,\n",
    "                      len)\n",
    "\n",
    "def prob(n_choices:int, n_rolls:int, n_unique:int) -> float:\n",
    "    \"\"\"Returns the probability of the finding n_unique numbers in n_rolls with n_choices.\"\"\"\n",
    "    return count_ways(n_choices, n_rolls, n_unique) / (n_choices ** n_rolls)\n",
    "\n",
    "def expectations(n_choices: int, n_rolls:int) -> float:\n",
    "    exp = {}\n",
    "    exp[1] = 0\n",
    "    for n_choice in range(2, n_choices+1):\n",
    "        denom = 1 - prob(n_choice, 6, n_choice)\n",
    "        numer = 1 + sum(prob(n_choice, 6, n_unique) * exp[n_unique] for n_unique in range(1, n_choice))\n",
    "        exp[n_choice] = numer / denom\n",
    "    return exp[n_choices]"
   ]
  },
  {
   "cell_type": "code",
   "execution_count": 5,
   "metadata": {},
   "outputs": [
    {
     "data": {
      "text/plain": [
       "37.205633341552655"
      ]
     },
     "execution_count": 5,
     "metadata": {},
     "output_type": "execute_result"
    }
   ],
   "source": [
    "expectations(6, 6)"
   ]
  },
  {
   "cell_type": "markdown",
   "metadata": {},
   "source": [
    "## Extra Credit"
   ]
  },
  {
   "cell_type": "code",
   "execution_count": 6,
   "metadata": {},
   "outputs": [
    {
     "data": {
      "text/plain": [
       "Text(0, 0.5, 'Expectation')"
      ]
     },
     "execution_count": 6,
     "metadata": {},
     "output_type": "execute_result"
    },
    {
     "data": {
      "image/png": "[encoded data removed]",
      "text/plain": [
       "<Figure size 1440x720 with 1 Axes>"
      ]
     },
     "metadata": {
      "needs_background": "light"
     },
     "output_type": "display_data"
    }
   ],
   "source": [
    "x = range(2, 12)\n",
    "y = [expectations(n, n) for n in x]\n",
    "fig = plt.figure(figsize=(20, 10))\n",
    "ax = fig.add_subplot(111)\n",
    "ax.plot(x, y)\n",
    "ax.set_xlabel('# of faces')\n",
    "ax.set_ylabel('Expectation')"
   ]
  },
  {
   "cell_type": "code",
   "execution_count": 7,
   "metadata": {},
   "outputs": [
    {
     "data": {
      "text/html": [
       "<div>\n",
       "<style scoped>\n",
       "    .dataframe tbody tr th:only-of-type {\n",
       "        vertical-align: middle;\n",
       "    }\n",
       "\n",
       "    .dataframe tbody tr th {\n",
       "        vertical-align: top;\n",
       "    }\n",
       "\n",
       "    .dataframe thead th {\n",
       "        text-align: right;\n",
       "    }\n",
       "</style>\n",
       "<table border=\"1\" class=\"dataframe\">\n",
       "  <thead>\n",
       "    <tr style=\"text-align: right;\">\n",
       "      <th></th>\n",
       "      <th>faces</th>\n",
       "      <th>expectation</th>\n",
       "    </tr>\n",
       "  </thead>\n",
       "  <tbody>\n",
       "    <tr>\n",
       "      <th>0</th>\n",
       "      <td>2</td>\n",
       "      <td>32.000000</td>\n",
       "    </tr>\n",
       "    <tr>\n",
       "      <th>1</th>\n",
       "      <td>3</td>\n",
       "      <td>35.349206</td>\n",
       "    </tr>\n",
       "    <tr>\n",
       "      <th>2</th>\n",
       "      <td>4</td>\n",
       "      <td>36.417305</td>\n",
       "    </tr>\n",
       "    <tr>\n",
       "      <th>3</th>\n",
       "      <td>5</td>\n",
       "      <td>36.919038</td>\n",
       "    </tr>\n",
       "    <tr>\n",
       "      <th>4</th>\n",
       "      <td>6</td>\n",
       "      <td>37.205633</td>\n",
       "    </tr>\n",
       "    <tr>\n",
       "      <th>5</th>\n",
       "      <td>7</td>\n",
       "      <td>37.389641</td>\n",
       "    </tr>\n",
       "    <tr>\n",
       "      <th>6</th>\n",
       "      <td>8</td>\n",
       "      <td>37.517282</td>\n",
       "    </tr>\n",
       "    <tr>\n",
       "      <th>7</th>\n",
       "      <td>9</td>\n",
       "      <td>37.610807</td>\n",
       "    </tr>\n",
       "    <tr>\n",
       "      <th>8</th>\n",
       "      <td>10</td>\n",
       "      <td>37.682185</td>\n",
       "    </tr>\n",
       "    <tr>\n",
       "      <th>9</th>\n",
       "      <td>11</td>\n",
       "      <td>37.738400</td>\n",
       "    </tr>\n",
       "  </tbody>\n",
       "</table>\n",
       "</div>"
      ],
      "text/plain": [
       "   faces  expectation\n",
       "0      2    32.000000\n",
       "1      3    35.349206\n",
       "2      4    36.417305\n",
       "3      5    36.919038\n",
       "4      6    37.205633\n",
       "5      7    37.389641\n",
       "6      8    37.517282\n",
       "7      9    37.610807\n",
       "8     10    37.682185\n",
       "9     11    37.738400"
      ]
     },
     "execution_count": 7,
     "metadata": {},
     "output_type": "execute_result"
    }
   ],
   "source": [
    "pd.DataFrame({'faces': z[0], 'expectation': z[1]} for z in zip(x, y))"
   ]
  },
  {
   "cell_type": "markdown",
   "metadata": {},
   "source": [
    "# Riddler Express\n",
    "These days I always have a pack of latex gloves nearby. But it’s notoriously difficult to pull exactly two gloves out of the box at a time. Sometimes I’ll pull out two gloves, other times three, and yet other times four. Somehow, I never pull out any other number of gloves at a time.\n",
    "\n",
    "This morning, I noticed that there are 10 gloves left in the box. How many distinct ways are there for me to remove all 10 gloves from the box? Note that the order matters here — for example, pulling out two gloves, then four gloves and then another four gloves is distinct from pulling out four gloves, another four gloves and then two gloves."
   ]
  },
  {
   "cell_type": "markdown",
   "metadata": {},
   "source": [
    "## Can we enumerate all the counts\n",
    "\n",
    "### Start with 2 picks\n",
    "1. 2, 2, 2, 2, 2\n",
    "2. 2, 3, 2, 3\n",
    "3. 2, 3, 3, 2\n",
    "4. 2, 2, 3, 3\n",
    "5. 2, 4, 2, 2\n",
    "6. 2, 2, 2, 4\n",
    "7. 2, 2, 4, 2\n",
    "8. 2, 4, 4\n",
    "\n",
    "### Start with 3 picks\n",
    "1. 3, 3, 2, 2\n",
    "2. 3, 2, 3, 2\n",
    "3. 3, 2, 2, 3\n",
    "4. 3, 4, 3\n",
    "5. 3, 3, 4\n",
    "\n",
    "### Start with 4 picks\n",
    "1. 4, 4, 2\n",
    "2. 4, 2, 4\n",
    "3. 4, 3, 3\n",
    "4. 4, 2, 2, 2\n",
    "\n",
    "So, we have 17 unique ways."
   ]
  },
  {
   "cell_type": "code",
   "execution_count": 8,
   "metadata": {},
   "outputs": [],
   "source": [
    "def gloves_puzzle(gloves: Tuple[int], needed: int) -> int:\n",
    "    def subseq(sequence):\n",
    "        return toolz.pipe(sequence,\n",
    "                          it.accumulate,\n",
    "                          toolz.curried.filter(lambda x: x <= needed),\n",
    "                          list,\n",
    "                          lambda x: range(len(x)) if x[-1] == needed else range(0),\n",
    "                          toolz.curried.map(lambda i: sequence[i]),\n",
    "                          tuple)\n",
    "    return toolz.pipe(all_sequences(gloves, int(needed / min(gloves))),\n",
    "                      toolz.curried.map(subseq),\n",
    "                      set,\n",
    "                      len) - 1 # empty set is also a part of the results."
   ]
  },
  {
   "cell_type": "code",
   "execution_count": 9,
   "metadata": {},
   "outputs": [
    {
     "data": {
      "text/plain": [
       "17"
      ]
     },
     "execution_count": 9,
     "metadata": {},
     "output_type": "execute_result"
    }
   ],
   "source": [
    "gloves_puzzle((2, 3, 4), 10)"
   ]
  }
 ],
 "metadata": {
  "kernelspec": {
   "display_name": "Python 3",
   "language": "python",
   "name": "python3"
  },
  "language_info": {
   "codemirror_mode": {
    "name": "ipython",
    "version": 3
   },
   "file_extension": ".py",
   "mimetype": "text/x-python",
   "name": "python",
   "nbconvert_exporter": "python",
   "pygments_lexer": "ipython3",
   "version": "3.7.4"
  }
 },
 "nbformat": 4,
 "nbformat_minor": 4
}
