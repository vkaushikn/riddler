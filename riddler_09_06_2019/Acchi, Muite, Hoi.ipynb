{
 "cells": [
  {
   "cell_type": "markdown",
   "metadata": {},
   "source": [
    "# Riddle\n",
    "You and your friend are playing a game of [“Acchi, Muite, Hoi”][1] (or what some on Twitter have been calling the [“lookaway challenge”][2]). In the first round, you point in one of four directions: up, down, left or right. At the exact same time, your friend also looks in one of those four directions. If your friend looks in the same direction you’re pointing, you win! Otherwise, you switch roles as the game continues to the next round — now your friend points in a direction and you try to look away. As long as no one wins, you keep switching off who points and who looks.\n",
    "\n",
    "It seems like your chances of winning should be 50 percent, since there are exactly two players. But surely it’s not that simple. If both you and your friend choose your directions randomly in each round, what are your chances of winning?\n",
    "\n",
    "[1]:https://taiken.co/single/acchi-muite-hoi-the-new-japanese-childrens-game/\n",
    "[2]:https://twitter.com/buitengebieden_/status/1164285815977054213"
   ]
  },
  {
   "cell_type": "markdown",
   "metadata": {},
   "source": [
    "# Analytical Solution\n",
    "Let $p$ be the probability that you win. Then we can write the following equation for $p$\n",
    "\n",
    "\\begin{equation}\n",
    "p := \\text{Pr(You win in 1st round)} + \\text{Pr(1 - You win in First Round)} \\times \\text{Pr(You win if your friend starts)}\n",
    "\\end{equation}\n",
    "\n",
    "Since the probability of you winning in the first round is 1/4 (4 out of the possible 16 configurations are a win configuration), this equation reduces to:\n",
    "\n",
    "\\begin{equation}\n",
    "p = 1/4 + 3/4(1-p)\n",
    "\\end{equation}\n",
    "\n",
    "Solving for $p$, we get:\n",
    "\n",
    "\\begin{equation}\n",
    "p + 3/4 p = 1 \\implies p = 4/7 = 57.1428\\%\n",
    "\\end{equation}"
   ]
  },
  {
   "cell_type": "markdown",
   "metadata": {},
   "source": [
    "# Another derivation\n",
    "We can also derive the result using an infinite sum as follows.\n",
    "\n",
    "The probability that you win in the first round is $1/4$.\n",
    "The probability that you win in the third round is\n",
    "\\begin{equation}\n",
    "\\text{Pr(Lose Round 1)} \\times \\text{Pr(Friend loses Round 2)} \\times \\text{Pr(You win Round 3)}\n",
    "\\end{equation}\n",
    "Or,\n",
    "\\begin{equation}\n",
    "\\text{Pr(Win in Round 3)} = 3/4 \\times 3/4 \\times 1/4\n",
    "\\end{equation}\n",
    "\n",
    "Since you can win in only odd number rounds, the probability that you win in any $k = (2n+1)^{\\text{th}}$ round is:\n",
    "\\begin{equation}\n",
    "\\text{Pr(Win in Round} 2n +1) = (3/4)^{2n}1/4\n",
    "\\end{equation}\n",
    "(either you or your friend have to lose $2n$ times succesively before you win on the $(2n+1)^{\\text{th}}$ attempt. \n",
    "\n",
    "Therefore,\n",
    "\\begin{equation}\n",
    "\\text{Pr(Winning)} = \\sum_{n=0}^{\\infty}\\text{Pr(Win in Round} 2n +1) = \\sum_{n=0}^{\\infty} (3/4)^{2n}1/4\n",
    "\\end{equation}\n",
    "\n",
    "This equation can be simplified as:\n",
    "\\begin{align}\n",
    "\\text{Pr(Winning)} &= \\sum_{n=0}^{\\infty} (3/4)^{2n}1/4 \\\\\n",
    " &= 1/4 \\times \\sum_{n=0}^{\\infty} ((3/4)^2)^n \\\\\n",
    " &= 1/4 \\times \\frac{1}{1 - (3/4)^2} \\\\\n",
    " &= 1/4 \\times \\frac{1}{7/16} \\\\\n",
    " &= 1/4 \\times \\frac{16}{7} \\\\\n",
    " &= 4/7\n",
    "\\end{align}"
   ]
  },
  {
   "cell_type": "markdown",
   "metadata": {},
   "source": [
    "# Just simulate the game!"
   ]
  },
  {
   "cell_type": "code",
   "execution_count": 26,
   "metadata": {},
   "outputs": [
    {
     "name": "stdout",
     "output_type": "stream",
     "text": [
      "Win probability for 1st player to win is: 57.2670%\n"
     ]
    }
   ],
   "source": [
    "import itertools as it\n",
    "import numpy as np\n",
    "import toolz\n",
    "import toolz.curried\n",
    "def simulate_once():\n",
    "    sequence = zip(it.count(),\n",
    "                   map(lambda _: np.random.randint(0, 4), it.count()),\n",
    "                   map(lambda _: np.random.randint(0, 4), it.count()))\n",
    "\n",
    "    def is_over(tup):\n",
    "        return tup[1] == tup[2]\n",
    "\n",
    "    def get_winner(tup):\n",
    "        return tup[0] % 2 == 0\n",
    "    \n",
    "    return toolz.pipe(sequence,\n",
    "                      toolz.curried.filter(is_over),\n",
    "                      next,\n",
    "                      get_winner)\n",
    "win_probability = sum((simulate_once() for _ in range(100000))) / 100000.0\n",
    "print('Win probability for 1st player to win is: {0:.4f}%'.format(win_probability * 100))"
   ]
  }
 ],
 "metadata": {
  "kernelspec": {
   "display_name": "Python 3",
   "language": "python",
   "name": "python3"
  },
  "language_info": {
   "codemirror_mode": {
    "name": "ipython",
    "version": 3
   },
   "file_extension": ".py",
   "mimetype": "text/x-python",
   "name": "python",
   "nbconvert_exporter": "python",
   "pygments_lexer": "ipython3",
   "version": "3.7.3"
  }
 },
 "nbformat": 4,
 "nbformat_minor": 2
}
