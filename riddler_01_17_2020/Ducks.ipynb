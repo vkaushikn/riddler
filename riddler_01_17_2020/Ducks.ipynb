{
 "cells": [
  {
   "cell_type": "markdown",
   "metadata": {},
   "source": [
    "# Riddler Classic\n",
    "After a long night of frivolous quackery, two delirious ducks are having a difficult time finding each other in their pond. The pond happens to contain a 3×3 grid of rocks.\n",
    "\n",
    "Every minute, each duck randomly swims, independently of the other duck, from one rock to a neighboring rock in the 3×3 grid — up, down, left or right, but not diagonally. So if a duck is at the middle rock, it will next swim to one of the four side rocks with probability 1/4. From a side rock, it will swim to one of the two adjacent corner rocks or back to the middle rock, each with probability 1/3. And from a corner rock, it will swim to one of the two adjacent side rocks with probability 1/2.\n",
    "\n",
    "If the ducks both start at the middle rock, then on average, how long will it take until they’re at the same rock again? (Of course, there’s a 1/4 chance that they’ll swim in the same direction after the first minute, in which case it would only take one minute for them to be at the same rock again. But it could take much longer, if they happen to keep missing each other.)\n",
    "\n",
    "Extra credit: What if there are three or more ducks? If they all start in the middle rock, on average, how long will it take until they are all at the same rock again?"
   ]
  },
  {
   "cell_type": "code",
   "execution_count": 148,
   "metadata": {},
   "outputs": [],
   "source": [
    "import collections\n",
    "import itertools\n",
    "import numpy as np\n",
    "import toolz\n",
    "from typing import Iterator, List, Tuple"
   ]
  },
  {
   "cell_type": "code",
   "execution_count": 149,
   "metadata": {},
   "outputs": [],
   "source": [
    "Position = collections.namedtuple('position', [\"x\", \"y\"])\n",
    "class Duck(object):\n",
    "    def __init__(self, N:int):\n",
    "        \"\"\"Initialize a duck.\n",
    "        \n",
    "        Args:\n",
    "          N: number of grid points.\n",
    "        \"\"\"\n",
    "        self.N = N # N represents the size of the grid\n",
    "        # Start at the middle\n",
    "        if N%2 == 1:\n",
    "            pos = int((N + 1) / 2)\n",
    "        else:\n",
    "            # start randomly at either of the locations\n",
    "            rand = np.random.random()\n",
    "            if rand < 0.5:\n",
    "                pos = int(N / 2)\n",
    "            else:\n",
    "                pos= int(N / 2) + 1\n",
    "        self.position = Position(pos, pos)\n",
    "    \n",
    "    def _get_next_locations(self) ->List[Position]:\n",
    "        \"\"\"Calculates the next location\"\"\"\n",
    "        directions = []\n",
    "        x, y = self.position\n",
    "        # See the up direction\n",
    "        _ = (directions.append(Position(x, y-1)) \n",
    "             if y - 1 >= 1 else None)\n",
    "        # See the down direction\n",
    "        _ = (directions.append(Position(x, y+1)) \n",
    "             if y + 1 <= self.N else None)\n",
    "        # see the left direction\n",
    "        _ = (directions.append(Position(x-1, y)) \n",
    "             if x - 1 >= 1 else None)\n",
    "        # see the right direction\n",
    "        _ = (directions.append(Position(x+1, y)) \n",
    "             if x + 1 <= self.N else None)\n",
    "        return directions\n",
    "    \n",
    "    def _set_next_location(self) -> Position:\n",
    "        \"\"\"Gets the next move. Also updates the state of the duck.\n",
    "        \n",
    "        Returns:\n",
    "          A tuple of the next direction.\n",
    "        \"\"\"\n",
    "        directions = self._get_next_locations()\n",
    "        index = np.random.randint(len(directions))\n",
    "        self.position = directions[index]\n",
    "        return self.position\n",
    "    \n",
    "    def moves(self) -> Iterator[Position]:\n",
    "        \"\"\"Returns an infinite iterator of next moves.\"\"\"\n",
    "        while True:\n",
    "            yield self._set_next_location()"
   ]
  },
  {
   "cell_type": "code",
   "execution_count": 150,
   "metadata": {},
   "outputs": [],
   "source": [
    "def is_same_for_all_ducks(positions: Tuple[Position]) -> bool:\n",
    "    \"\"\"Returns True if the position for all ducks are the same.\"\"\"\n",
    "    return (len(set(map(lambda pos: pos.x, positions))) == 1 and \n",
    "            len(set(map(lambda pos: pos.y, positions))) == 1)\n",
    "\n",
    "def is_different_for_all_ducks(positions: Tuple[Position]) -> bool:\n",
    "    return not is_same_for_all_ducks(positions)\n",
    "\n",
    "def find_num_minutes_before_meet(num_ducks: int, size_grid: int) -> int:\n",
    "    \"\"\"Returns the number of minutes before all ducks meet first.\n",
    "    \n",
    "    Args:\n",
    "      num_ducks: Number of ducks in the system\n",
    "      size_grid: The size of the pond.\n",
    "      \n",
    "    Returns:\n",
    "      Number of minutes it takes for the ducks to meet.\n",
    "    \"\"\"\n",
    "    all_positions = zip(*[Duck(size_grid).moves() \n",
    "                          for _ in range(num_ducks)])\n",
    "    till_first_meet = itertools.takewhile(is_different_for_all_ducks,\n",
    "                        all_positions)\n",
    "    # If we meet at the very first time then we get an empty iterator.\n",
    "    return max(1, sum(1 for _ in till_first_meet)) "
   ]
  },
  {
   "cell_type": "code",
   "execution_count": 151,
   "metadata": {},
   "outputs": [],
   "source": [
    "def find_mean_num_minutes_before_meet(num_ducks: int,\n",
    "                                      size_grid: int, \n",
    "                                      num_sims: int) -> float:\n",
    "    return np.mean([find_num_minutes_before_meet(num_ducks, \n",
    "                                                 size_grid) \n",
    "                    for _ in range(num_sims)])"
   ]
  },
  {
   "cell_type": "code",
   "execution_count": 152,
   "metadata": {},
   "outputs": [
    {
     "data": {
      "text/plain": [
       "4.16098"
      ]
     },
     "execution_count": 152,
     "metadata": {},
     "output_type": "execute_result"
    }
   ],
   "source": [
    "(find_mean_num_minutes_before_meet(2, 3, 100000))"
   ]
  },
  {
   "cell_type": "code",
   "execution_count": 154,
   "metadata": {},
   "outputs": [
    {
     "name": "stderr",
     "output_type": "stream",
     "text": [
      "Matplotlib is building the font cache using fc-list. This may take a moment.\n"
     ]
    },
    {
     "data": {
      "text/plain": [
       "Text(0.5, 0, 'Number of ducks')"
      ]
     },
     "execution_count": 154,
     "metadata": {},
     "output_type": "execute_result"
    }
   ],
   "source": [
    "# Lets plot what happnes as the number of ducks increase\n",
    "means = [find_mean_num_minutes_before_meet(num_ducks, 3, 1000) for num_ducks in range(2, 7)]\n",
    "import seaborn as sns\n",
    "import matplotlib.pyplot as plt\n",
    "fig = plt.figure(figsize=(20, 10))\n",
    "ax = fig.add_subplot(111)\n",
    "ax.plot(range(2, 7), means)\n",
    "ax.set_ylabel('Mean minutes to meet')\n",
    "ax.set_xlabel('Number of ducks')"
   ]
  },
  {
   "cell_type": "code",
   "execution_count": 155,
   "metadata": {},
   "outputs": [],
   "source": [
    "plt.show()"
   ]
  },
  {
   "cell_type": "code",
   "execution_count": 156,
   "metadata": {},
   "outputs": [
    {
     "data": {
      "text/plain": [
       "[3.853, 19.318, 65.645, 237.51, 821.02]"
      ]
     },
     "execution_count": 156,
     "metadata": {},
     "output_type": "execute_result"
    }
   ],
   "source": [
    "means"
   ]
  },
  {
   "cell_type": "code",
   "execution_count": null,
   "metadata": {},
   "outputs": [],
   "source": []
  }
 ],
 "metadata": {
  "kernelspec": {
   "display_name": "Python 3",
   "language": "python",
   "name": "python3"
  },
  "language_info": {
   "codemirror_mode": {
    "name": "ipython",
    "version": 3
   },
   "file_extension": ".py",
   "mimetype": "text/x-python",
   "name": "python",
   "nbconvert_exporter": "python",
   "pygments_lexer": "ipython3",
   "version": "3.7.4"
  }
 },
 "nbformat": 4,
 "nbformat_minor": 2
}
