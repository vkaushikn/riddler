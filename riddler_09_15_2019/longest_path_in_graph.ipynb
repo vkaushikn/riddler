{
 "cells": [
  {
   "cell_type": "code",
   "execution_count": 2,
   "metadata": {},
   "outputs": [],
   "source": [
    "import collections\n",
    "import pandas as pd\n",
    "from typing import Dict, Iterator, List, Text, Tuple "
   ]
  },
  {
   "cell_type": "markdown",
   "metadata": {},
   "source": [
    "# Create the Graph"
   ]
  },
  {
   "cell_type": "code",
   "execution_count": 3,
   "metadata": {},
   "outputs": [],
   "source": [
    "Node = Text\n",
    "Graph = Dict[Node, List[Node]]"
   ]
  },
  {
   "cell_type": "code",
   "execution_count": 4,
   "metadata": {},
   "outputs": [],
   "source": [
    "# make the graph from the data\n",
    "data = list(pd.read_csv('riddler_data.csv')['abbreviation'].values)\n",
    "graph = {o: [d for d in data if d[0] == o[-1]] for o in data}"
   ]
  },
  {
   "cell_type": "markdown",
   "metadata": {},
   "source": [
    "# Using recursion "
   ]
  },
  {
   "cell_type": "code",
   "execution_count": 5,
   "metadata": {},
   "outputs": [],
   "source": [
    "def find_max_path(node: Node, visited: List[Node], graph: Graph) ->List[Node]:\n",
    "    # check for a cycle\n",
    "    if node in visited:\n",
    "        return visited\n",
    "    \n",
    "    \n",
    "    # so we did not observe a cycle\n",
    "    # 1. visit the node\n",
    "    visited.append(node)\n",
    "    \n",
    "    \n",
    "    \n",
    "    # 2. We have not visited node \n",
    "    # so we have to continue searching\n",
    "    children = graph[node]\n",
    "    # if there is no child, then we are done\n",
    "    if children == []:\n",
    "        return visited\n",
    "    \n",
    "    # otherwise, we find out the maximum graph for each child\n",
    "    max_length = 0\n",
    "    max_chain = []\n",
    "    for child in children:\n",
    "        candidate_chain =  find_max_path(child, [v for v in visited], graph)\n",
    "        if len(candidate_chain) > max_length:\n",
    "            max_length = len(candidate_chain)\n",
    "            max_chain = candidate_chain\n",
    "    return max_chain"
   ]
  },
  {
   "cell_type": "markdown",
   "metadata": {},
   "source": [
    "# using stacks"
   ]
  },
  {
   "cell_type": "code",
   "execution_count": 11,
   "metadata": {},
   "outputs": [
    {
     "data": {
      "text/plain": [
       "[['A', 'B', 'E'], ['A', 'C', 'D'], ['A', 'C', 'E']]"
      ]
     },
     "execution_count": 11,
     "metadata": {},
     "output_type": "execute_result"
    }
   ],
   "source": [
    "class Stack(object):\n",
    "    def __init__(self):\n",
    "        self.stack = []\n",
    "    \n",
    "    def top(self):\n",
    "        return self.stack[-1]\n",
    "    \n",
    "    def push(self, item):\n",
    "        self.stack.append(item)\n",
    "    \n",
    "    def pop(self):\n",
    "        return self.stack.pop()\n",
    "    \n",
    "    def is_empty(self):\n",
    "        return self.stack == []\n",
    "    \n",
    "    def __contains__(self, item):\n",
    "        return item in self.stack\n",
    "    \n",
    "    def to_list(self):\n",
    "        return self.stack\n",
    "        \n",
    "            \n",
    "def find_all_paths(start_node: Node, graph: Graph) -> Iterator[List[Node]]:\n",
    "        \n",
    "    def get_unexplored_child_node(children):\n",
    "        for child, explored in children.items():\n",
    "            if not explored:\n",
    "                return child\n",
    "        return None\n",
    "    \n",
    "    visited = Stack()\n",
    "    explore = Stack()\n",
    "    \n",
    "    visited.push(start_node)\n",
    "    explore.push({node: False for node in graph[start_node]})\n",
    "    \n",
    "    while not explore.is_empty():\n",
    "        children = explore.top() # find the children of the most recently visisted node\n",
    "        child = get_unexplored_child_node(children)\n",
    "        \n",
    "        if child is None:\n",
    "            # we have completely explored all the child nodes of  the currently visited node\n",
    "            # go back up the stack\n",
    "            explore.pop()\n",
    "            visited.pop()\n",
    "            continue\n",
    "        \n",
    "        # check to see if we want to visit the child or not\n",
    "        if child in visited:\n",
    "            continue \n",
    "        \n",
    "        # child has not been visited yet\n",
    "        next_nodes = graph[child]\n",
    "        \n",
    "        # if we have nowhere else to go, the path is complete, yield the path\n",
    "        if not next_nodes:\n",
    "            yield visited.to_list() + [child]\n",
    "            \n",
    "        # visit the child\n",
    "        children[child] = True\n",
    "        visited.push(child)\n",
    "        explore.push({node: False for node in graph[child]})\n",
    "        \n",
    "G = {'A' : ['B', 'C'], 'B' : ['A', 'E'], 'C' : ['D', 'E'], 'D' : [], 'E' : []}\n",
    "#max((len(path) for path in list(find_all_paths('FM', graph))))\n",
    "list(find_all_paths('A', G))"
   ]
  },
  {
   "cell_type": "code",
   "execution_count": null,
   "metadata": {},
   "outputs": [],
   "source": []
  },
  {
   "cell_type": "code",
   "execution_count": null,
   "metadata": {},
   "outputs": [],
   "source": []
  }
 ],
 "metadata": {
  "kernelspec": {
   "display_name": "Python 3",
   "language": "python",
   "name": "python3"
  },
  "language_info": {
   "codemirror_mode": {
    "name": "ipython",
    "version": 3
   },
   "file_extension": ".py",
   "mimetype": "text/x-python",
   "name": "python",
   "nbconvert_exporter": "python",
   "pygments_lexer": "ipython3",
   "version": "3.7.3"
  }
 },
 "nbformat": 4,
 "nbformat_minor": 2
}
